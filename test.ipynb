{
 "cells": [
  {
   "cell_type": "code",
   "execution_count": 1,
   "metadata": {},
   "outputs": [],
   "source": [
    "import requests\n",
    "from bs4 import BeautifulSoup\n",
    "from urllib.parse import urljoin\n",
    "\n",
    "def extract_images_with_captions(page_url: str):\n",
    "    response = requests.get(page_url)\n",
    "    soup = BeautifulSoup(response.text, 'html.parser')\n",
    "\n",
    "    results = []\n",
    "\n",
    "    for figure in soup.find_all('figure'):\n",
    "        img_tag = figure.find('img')\n",
    "        caption_tag = figure.find('figcaption')\n",
    "\n",
    "        if img_tag and img_tag.get('src'):\n",
    "            img_url = urljoin(page_url, img_tag['src'])\n",
    "            caption = caption_tag.get_text(strip=True) if caption_tag else \"\"\n",
    "            results.append({'image_url': img_url, 'caption': caption})\n",
    "\n",
    "    return results\n",
    "\n",
    "# Exemple d'utilisation\n",
    "page = \"https://langchain-ai.github.io/langgraph/concepts/human_in_the_loop/#approve-or-reject\"\n",
    "images_with_captions = extract_images_with_captions(page)\n",
    "\n",
    "for item in images_with_captions:\n",
    "    print(f\"🖼️ Image: {item['image_url']}\")\n",
    "    print(f\"📝 Caption: {item['caption']}\\n\")\n"
   ]
  },
  {
   "cell_type": "code",
   "execution_count": 4,
   "metadata": {},
   "outputs": [
    {
     "name": "stdout",
     "output_type": "stream",
     "text": [
      "1674 chunks évalués parmi vos RGPH.\n"
     ]
    }
   ],
   "source": [
    "from src.simple_rag.load_rgph import load_all_rgph_reports\n",
    "\n",
    "docs = load_all_rgph_reports(\"/Users/fatousall/Documents/sun-stats/vos_rapports_rgph\")\n",
    "print(f\"{len(docs)} chunks évalués parmi vos RGPH.\")\n",
    "\n"
   ]
  }
 ],
 "metadata": {
  "kernelspec": {
   "display_name": "base",
   "language": "python",
   "name": "python3"
  },
  "language_info": {
   "codemirror_mode": {
    "name": "ipython",
    "version": 3
   },
   "file_extension": ".py",
   "mimetype": "text/x-python",
   "name": "python",
   "nbconvert_exporter": "python",
   "pygments_lexer": "ipython3",
   "version": "3.11.6"
  }
 },
 "nbformat": 4,
 "nbformat_minor": 2
}
