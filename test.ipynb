{
 "cells": [
  {
   "cell_type": "code",
   "execution_count": 1,
   "metadata": {},
   "outputs": [
    {
     "name": "stdout",
     "output_type": "stream",
     "text": [
      "🖼️ Image: https://langchain-ai.github.io/langgraph/concepts/img/human_in_the_loop/approve-or-reject.png\n",
      "📝 Caption: Depending on the human's approval or rejection, the graph can proceed with the action or take an alternative path.\n",
      "\n",
      "🖼️ Image: https://langchain-ai.github.io/langgraph/concepts/img/human_in_the_loop/edit-graph-state-simple.png\n",
      "📝 Caption: A human can review and edit the state of the graph. This is useful for correcting mistakes or updating the state with additional information.\n",
      "\n",
      "🖼️ Image: https://langchain-ai.github.io/langgraph/concepts/img/human_in_the_loop/tool-call-review.png\n",
      "📝 Caption: A human can review and edit the output from the LLM before proceeding. This is particularly\n",
      "critical in applications where the tool calls requested by the LLM may be sensitive or require human oversight.\n",
      "\n",
      "🖼️ Image: https://langchain-ai.github.io/langgraph/concepts/img/human_in_the_loop/multi-turn-conversation.png\n",
      "📝 Caption: Amulti-turn conversationarchitecture where anagentandhuman nodecycle back and forth until the agent decides to hand off the conversation to another agent or another part of the system.\n",
      "\n"
     ]
    }
   ],
   "source": [
    "import requests\n",
    "from bs4 import BeautifulSoup\n",
    "from urllib.parse import urljoin\n",
    "\n",
    "def extract_images_with_captions(page_url: str):\n",
    "    response = requests.get(page_url)\n",
    "    soup = BeautifulSoup(response.text, 'html.parser')\n",
    "\n",
    "    results = []\n",
    "\n",
    "    for figure in soup.find_all('figure'):\n",
    "        img_tag = figure.find('img')\n",
    "        caption_tag = figure.find('figcaption')\n",
    "\n",
    "        if img_tag and img_tag.get('src'):\n",
    "            img_url = urljoin(page_url, img_tag['src'])\n",
    "            caption = caption_tag.get_text(strip=True) if caption_tag else \"\"\n",
    "            results.append({'image_url': img_url, 'caption': caption})\n",
    "\n",
    "    return results\n",
    "\n",
    "# Exemple d'utilisation\n",
    "page = \"https://langchain-ai.github.io/langgraph/concepts/human_in_the_loop/#approve-or-reject\"\n",
    "images_with_captions = extract_images_with_captions(page)\n",
    "\n",
    "for item in images_with_captions:\n",
    "    print(f\"🖼️ Image: {item['image_url']}\")\n",
    "    print(f\"📝 Caption: {item['caption']}\\n\")\n"
   ]
  }
 ],
 "metadata": {
  "kernelspec": {
   "display_name": "base",
   "language": "python",
   "name": "python3"
  },
  "language_info": {
   "codemirror_mode": {
    "name": "ipython",
    "version": 3
   },
   "file_extension": ".py",
   "mimetype": "text/x-python",
   "name": "python",
   "nbconvert_exporter": "python",
   "pygments_lexer": "ipython3",
   "version": "3.11.6"
  }
 },
 "nbformat": 4,
 "nbformat_minor": 2
}
